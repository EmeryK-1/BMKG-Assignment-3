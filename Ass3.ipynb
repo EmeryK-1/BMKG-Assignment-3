{
 "cells": [
  {
   "cell_type": "code",
   "execution_count": null,
   "id": "initial_id",
   "metadata": {
    "collapsed": true
   },
   "outputs": [],
   "source": [
    "import requests\n",
    "from rdflib import Graph, Literal, Namespace, RDF, URIRef, BNode\n",
    "from rdflib.namespace import FOAF, XSD\n",
    "import re\n",
    "\n",
    "def fetch_query(query):\n",
    "    url = 'https://query.wikidata.org/sparql'\n",
    "    response = requests.get(url, headers={'User-Agent': 'Mozilla/5.0'}, params={'query': query, 'format': 'json'})\n",
    "    data = response.json()\n",
    "    return data\n",
    "\n",
    "def assert_iso8601_zulu(string):\n",
    "    pattern = r\"\\d{4}-(0[1-9]|1[0-2])-(0[1-9]|[12]\\d|3[01])T(0\\d|1\\d|2[0-3]):[0-5]\\d:[0-5]\\dZ\"\n",
    "    return re.match(pattern, string)\n"
   ]
  },
  {
   "cell_type": "code",
   "outputs": [],
   "source": [
    "WD = Namespace(\"http://www.wikidata.org/entity/\")\n",
    "SCHEMA = Namespace(\"http://schema.org/\")\n",
    "EX = Namespace(\"http://example.org/\")\n",
    "g = Graph()\n",
    "g.bind(\"wd\", WD)\n",
    "g.bind(\"schema\", SCHEMA)\n",
    "g.bind(\"foaf\", FOAF)\n",
    "g.bind(\"ex\", EX)\n",
    "# load from football_data.ttl\n",
    "g.parse(\"football_data.ttl\", format=\"turtle\")"
   ],
   "metadata": {
    "collapsed": false
   },
   "id": "1d6cad0aedc96234",
   "execution_count": null
  },
  {
   "cell_type": "markdown",
   "source": [
    "## Players"
   ],
   "metadata": {
    "collapsed": false
   },
   "id": "20c5f4b8c86236c9"
  },
  {
   "cell_type": "code",
   "outputs": [],
   "source": [
    "player_query = \"\"\"\n",
    "SELECT ?player ?playerLabel ?nationality ?nationalityLabel ?position ?positionLabel WHERE {\n",
    "    ?player wdt:P106 wd:Q937857; # Instance of soccer player\n",
    "            wdt:P27 ?nationality; # Nationality\n",
    "            wdt:P21 wd:Q6581097;\n",
    "            wdt:P413 ?position.\n",
    "    SERVICE wikibase:label { bd:serviceParam wikibase:language \"[AUTO_LANGUAGE],en\". }\n",
    "}\n",
    "\"\"\"\n",
    "player_uris = set()\n",
    "for i in range(0, 1):\n",
    "    player_results = fetch_query(player_query+f\"LIMIT {100} OFFSET {i*100}\")\n",
    "    \n",
    "    for player in player_results[\"results\"][\"bindings\"]:\n",
    "        player_uri = URIRef(player[\"player\"]['value'])\n",
    "        player_uris.add(player[\"player\"]['value'])\n",
    "        player_name = Literal(player[\"playerLabel\"]['value'])\n",
    "        nationality = Literal(player[\"nationalityLabel\"]['value'])\n",
    "        nationality_uri = URIRef(player[\"nationality\"]['value'])\n",
    "        position_uri = URIRef(player[\"position\"]['value'])\n",
    "        position = Literal(player[\"positionLabel\"]['value'])\n",
    "        \n",
    "        # Adding triples for each player\n",
    "        g.add((player_uri, RDF.type, SCHEMA.Person))\n",
    "        g.add((player_uri, SCHEMA.name, player_name))\n",
    "        g.add((player_uri, SCHEMA.nationality, nationality_uri))\n",
    "        # add position\n",
    "        g.add((player_uri, EX.position, position_uri))\n",
    "        g.add((position_uri, RDF.type, EX.PlayerPosition))\n",
    "        g.add((position_uri, SCHEMA.name, position))\n",
    "        \n",
    "        g.add((nationality_uri, RDF.type, SCHEMA.Country))\n",
    "        g.add((nationality_uri, SCHEMA.name, nationality))\n",
    "        \n",
    "    print(f\"{i} - {len(g)} triples. {len(player_uris)} players.\".ljust(50), end=\"\\r\")"
   ],
   "metadata": {
    "collapsed": false
   },
   "id": "c01430dd1b7a5dab",
   "execution_count": null
  },
  {
   "cell_type": "code",
   "outputs": [],
   "source": [
    "# remove player_uri if they are already in the graph\n",
    "player_uris = player_uris - set([str(player) for player in g.subjects(RDF.type, SCHEMA.Person)])\n",
    "\n",
    "print('Number of triples:', len(g), '\\nNumber of players:', len(player_uris))"
   ],
   "metadata": {
    "collapsed": false
   },
   "id": "37a397f333965f9e",
   "execution_count": null
  },
  {
   "cell_type": "markdown",
   "source": [
    "## Teams"
   ],
   "metadata": {
    "collapsed": false
   },
   "id": "3eeb4b35f838753b"
  },
  {
   "cell_type": "code",
   "outputs": [],
   "source": [
    "# Assuming `player_uris` is a list of player URIs and `fetch_query` is a function to execute SPARQL queries\n",
    "\n",
    "team_query_template = \"\"\"\n",
    "SELECT ?team ?teamLabel ?startTime ?endTime WHERE {\n",
    "  BIND(%s AS ?player)\n",
    "  ?player p:P54 ?playerTeamStatement.\n",
    "  ?playerTeamStatement ps:P54 ?team;\n",
    "                    pq:P580 ?startTime;\n",
    "OPTIONAL { ?playerTeamStatement pq:P582 ?endTime. }\n",
    "  SERVICE wikibase:label { bd:serviceParam wikibase:language \"[AUTO_LANGUAGE],en\". }\n",
    "}\n",
    "\"\"\"\n",
    "team_uris = set()\n",
    "for player_uri in player_uris:\n",
    "    team_query = team_query_template % f\"<{player_uri}>\"\n",
    "    team_results = fetch_query(team_query)\n",
    "    # Process team_results and add data to the knowledge graph\n",
    "    for result in team_results[\"results\"][\"bindings\"]:\n",
    "        team_uri = URIRef(result[\"team\"][\"value\"])\n",
    "        team_uris.add(result[\"team\"][\"value\"])\n",
    "        team_name = Literal(result[\"teamLabel\"][\"value\"])\n",
    "        start_time = Literal(result[\"startTime\"][\"value\"], datatype=XSD.date)\n",
    "        end_time = result.get(\"endTime\", {}).get(\"value\")  # Handle potential missing end time\n",
    "        player_ref = URIRef(player_uri)\n",
    "        \n",
    "        # Adding team information\n",
    "        g.add((team_uri, RDF.type, SCHEMA.SportsTeam))\n",
    "        g.add((team_uri, SCHEMA.name, team_name))\n",
    "        \n",
    "        g.add((player_ref, SCHEMA.memberOf, team_uri))\n",
    "        \n",
    "        # Create a unique identifier (BNode) for each player-team tenure\n",
    "        tenure = BNode()\n",
    "        g.add((tenure, RDF.type, SCHEMA.Role))\n",
    "        g.add((tenure, SCHEMA.memberOf, team_uri))\n",
    "        g.add((tenure, SCHEMA.startDate, start_time))\n",
    "        if end_time and assert_iso8601_zulu(end_time):  # If there's an end date\n",
    "            end_time = Literal(end_time, datatype=XSD.date)\n",
    "            g.add((tenure, SCHEMA.endDate, end_time))\n",
    "        player_ref = URIRef(player_uri)\n",
    "        g.add((player_ref, SCHEMA.hasOccupation, tenure))\n",
    "    print(f\"{len(g)} triples. {len(team_uris)} teams.\".ljust(50), end=\"\\r\")"
   ],
   "metadata": {
    "collapsed": false
   },
   "id": "b29972f652545acd",
   "execution_count": null
  },
  {
   "cell_type": "code",
   "outputs": [],
   "source": [
    "# remove teams that are already in the graph\n",
    "team_uris = team_uris - set([str(team) for team in g.subjects(RDF.type, SCHEMA.SportsTeam)])\n",
    "\n",
    "print('Number of triples:', len(g), '\\nNumber of players:', len(player_uris), '\\nNumber of teams:', len(team_uris))"
   ],
   "metadata": {
    "collapsed": false
   },
   "id": "98f3cdd4a31ff6cf",
   "execution_count": null
  },
  {
   "cell_type": "markdown",
   "source": [
    "#### Team details"
   ],
   "metadata": {
    "collapsed": false
   },
   "id": "16969078f2273e38"
  },
  {
   "cell_type": "code",
   "outputs": [],
   "source": [
    "team_detail_query_template = \"\"\"\n",
    "SELECT ?teamLabel ?country ?league ?leagueLabel WHERE {\n",
    "  BIND(<TEAM_URI> AS ?team)\n",
    "  ?team wdt:P17 ?country; # Country the team is based in\n",
    "        wdt:P118 ?league. # League the team competes in\n",
    "  SERVICE wikibase:label { bd:serviceParam wikibase:language \"[AUTO_LANGUAGE],en\". }\n",
    "}\n",
    "\"\"\"\n",
    "\n",
    "def execute_team_detail_query(team_uri):\n",
    "    # Prepare the query by replacing <TEAM_URI> with the current team's URI\n",
    "    query = team_detail_query_template.replace(\"<TEAM_URI>\", f\"<{team_uri}>\")\n",
    "    # Execute the query and return the results\n",
    "    return fetch_query(query)\n",
    "\n",
    "# TODO ALSO SAVE LEAGUE URIS TO GET COUNTRY?\n",
    "for team_uri in team_uris:\n",
    "    # Execute query for the current team\n",
    "    team_detail_results = execute_team_detail_query(team_uri)\n",
    "    \n",
    "    # Process results and add to the RDF graph\n",
    "    for result in team_detail_results[\"results\"][\"bindings\"]:\n",
    "        # Assuming you have a function to convert the URI to a RDFLib URIRef if needed\n",
    "        team_uri_ref = URIRef(team_uri)\n",
    "        country_uri = URIRef(result[\"country\"][\"value\"])\n",
    "        league_uri = URIRef(result[\"league\"][\"value\"])\n",
    "        league = Literal(result[\"leagueLabel\"][\"value\"])\n",
    "        \n",
    "        # Add country and league to the graph as instances of their respective types\n",
    "        g.add((country_uri, RDF.type, SCHEMA.Country))\n",
    "        g.add((league_uri, RDF.type, SCHEMA.SportsOrganization))\n",
    "        g.add((league_uri, SCHEMA.name, league))\n",
    "        \n",
    "        # Link team to country and league\n",
    "        g.add((team_uri_ref, SCHEMA.location, country_uri))\n",
    "        g.add((team_uri_ref, SCHEMA.partOf, league_uri))\n",
    "    print(f\"{len(g)} triples.\".ljust(20), end=\"\\r\")"
   ],
   "metadata": {
    "collapsed": false
   },
   "id": "ba4123683092e027",
   "execution_count": null
  },
  {
   "cell_type": "code",
   "outputs": [],
   "source": [
    "print('Number of triples:', len(g), '\\nNumber of players:', len(player_uris), '\\nNumber of teams:', len(team_uris))"
   ],
   "metadata": {
    "collapsed": false
   },
   "id": "cbf47344b892edda",
   "execution_count": null
  },
  {
   "cell_type": "markdown",
   "source": [
    "#### Team victories"
   ],
   "metadata": {
    "collapsed": false
   },
   "id": "a8941d6256d38225"
  },
  {
   "cell_type": "code",
   "outputs": [],
   "source": [
    "# for each team_uri, get all sports seasons won (P2522)\n",
    "team_victory_query_template = \"\"\"\n",
    "SELECT ?team ?tournament ?tournamentLabel ?organizer ?organizerLabel ?league ?leagueLabel ?startTime ?endTime WHERE {\n",
    "  BIND(<TEAM_URI> AS ?team)\n",
    "  ?team wdt:P2522 ?tournament.\n",
    "  ?tournament wdt:P31 wd:Q27020041; # Instance of sports season\n",
    "              wdt:P664 ?organizer;\n",
    "              wdt:P3450 ?league.\n",
    "                \n",
    "    OPTIONAL {\n",
    "        ?tournament wdt:P580 ?startTime;\n",
    "                    wdt:P582 ?endTime.\n",
    "    }\n",
    "    OPTIONAL {\n",
    "        ?tournament wdt:P585 ?startTime;\n",
    "    }\n",
    "  SERVICE wikibase:label { bd:serviceParam wikibase:language \"[AUTO_LANGUAGE],en\". }\n",
    "}\n",
    "\"\"\"\n",
    "\n",
    "def execute_team_victory_query(team_uri):\n",
    "    # Prepare the query by inserting the current team URI\n",
    "    query = team_victory_query_template.replace(\"<TEAM_URI>\", f\"<{team_uri}>\")\n",
    "    # Execute the query\n",
    "    return fetch_query(query)\n",
    "\n",
    "# Initialize a set to store all unique tournament URIs encountered\n",
    "tournament_uris = set()\n",
    "\n",
    "# Loop through each team URI to execute the victory query\n",
    "for team_uri in team_uris:\n",
    "    # Execute the query for the current team\n",
    "    team_victory_results = execute_team_victory_query(team_uri)\n",
    "    \n",
    "    # Process the results for each team's victories\n",
    "    for result in team_victory_results[\"results\"][\"bindings\"]:\n",
    "        tournament_uri = URIRef(result[\"tournament\"][\"value\"])\n",
    "        tournament_uris.add(result[\"tournament\"][\"value\"])  # Collect tournament URIs\n",
    "        \n",
    "        # Remaining processing, including adding data to the RDF graph\n",
    "        tournament_label = Literal(result[\"tournamentLabel\"][\"value\"])\n",
    "        organizer_uri = URIRef(result[\"organizer\"][\"value\"])\n",
    "        organizer_label = Literal(result[\"organizerLabel\"][\"value\"])\n",
    "        league_uri = URIRef(result[\"league\"][\"value\"])\n",
    "        league_label = Literal(result[\"leagueLabel\"][\"value\"])\n",
    "        start_time = result.get(\"startTime\", {}).get(\"value\")\n",
    "        end_time = result.get(\"endTime\", {}).get(\"value\")\n",
    "        \n",
    "        g.add((tournament_uri, RDF.type, SCHEMA.SportsSeason))\n",
    "        g.add((tournament_uri, SCHEMA.name, tournament_label))\n",
    "        g.add((URIRef(team_uri), SCHEMA.award, tournament_uri))  # Linking the victory to the team\n",
    "        g.add((tournament_uri, SCHEMA.partOf, league_uri))\n",
    "        g.add((league_uri, RDF.type, SCHEMA.SportsOrganization))\n",
    "        g.add((league_uri, SCHEMA.name, league_label))\n",
    "        \n",
    "        g.add((tournament_uri, SCHEMA.organizer, organizer_uri))\n",
    "        g.add((organizer_uri, RDF.type, SCHEMA.Organization))\n",
    "        g.add((organizer_uri, SCHEMA.name, organizer_label))\n",
    "        \n",
    "        if start_time:\n",
    "            start_time = Literal(start_time, datatype=XSD.date)\n",
    "            g.add((tournament_uri, SCHEMA.startDate, start_time))\n",
    "        if end_time:\n",
    "            end_time = Literal(end_time, datatype=XSD.date)\n",
    "            g.add((tournament_uri, SCHEMA.endDate, end_time))\n",
    "    print(f\"{len(g)} triples. {len(tournament_uris)} tournaments\".ljust(20), end=\"\\r\")"
   ],
   "metadata": {
    "collapsed": false
   },
   "id": "79f1d772e6607ff8",
   "execution_count": null
  },
  {
   "cell_type": "code",
   "outputs": [],
   "source": [
    "# remove tournament_uris that are already in the graph\n",
    "tournament_uris = tournament_uris - set([str(tournament) for tournament in g.subjects(RDF.type, SCHEMA.SportsSeason)])\n",
    "\n",
    "print('Number of triples:', len(g), '\\nNumber of players:', len(player_uris), '\\nNumber of teams:', len(team_uris), '\\nNumber of tournaments:', len(tournament_uris))"
   ],
   "metadata": {
    "collapsed": false
   },
   "id": "e293fb7baa34fbf7",
   "execution_count": null
  },
  {
   "cell_type": "markdown",
   "source": [
    "## Tournaments"
   ],
   "metadata": {
    "collapsed": false
   },
   "id": "a18c2093ef299abe"
  },
  {
   "cell_type": "code",
   "outputs": [],
   "source": [
    "# for each tournament_uri, get a name, number of participants (P1132), organizer (P664), winner (P1346)\n",
    "tournament_details_query_template = \"\"\"\n",
    "SELECT ?tournamentLabel ?country ?numParticipants ?organizer ?organizerLabel ?winner ?winnerLabel WHERE {\n",
    "  BIND(<TOURNAMENT_URI> AS ?tournament)\n",
    "  ?tournament wdt:P17 ?country; # Country the tournament took place in\n",
    "              wdt:P1132 ?numParticipants;\n",
    "              wdt:P664 ?organizer;\n",
    "              wdt:P1346 ?winner.\n",
    "  SERVICE wikibase:label { bd:serviceParam wikibase:language \"[AUTO_LANGUAGE],en\". }\n",
    "}\n",
    "\"\"\"\n",
    "# TODO CAN GET A LOT MORE INFORMATION: ranking, number of matches, number of points, number of wins, etc...\n",
    "participating_teams_query_template = \"\"\"\n",
    "SELECT ?participatingTeam ?participatingTeamLabel WHERE {\n",
    "  BIND(<TOURNAMENT_URI> AS ?tournament)\n",
    "  ?tournament wdt:P1923 ?participatingTeam.\n",
    "  SERVICE wikibase:label { bd:serviceParam wikibase:language \"[AUTO_LANGUAGE],en\". }\n",
    "}\n",
    "\"\"\"\n",
    "\n",
    "def execute_query_for_tournament(tournament_uri, query_template):\n",
    "    # Replace <TOURNAMENT_URI> with the current tournament URI in the query template\n",
    "    query = query_template.replace(\"<TOURNAMENT_URI>\", f\"<{tournament_uri}>\")\n",
    "    # Execute the query\n",
    "    return fetch_query(query)\n",
    "\n",
    "# Loop through each tournament URI and execute both queries\n",
    "for tournament_uri in tournament_uris:\n",
    "    # Assuming tournaments_uri contains string representations of URIs\n",
    "    tournament_details_results = execute_query_for_tournament(tournament_uri, tournament_details_query_template)\n",
    "    participating_teams_results = execute_query_for_tournament(tournament_uri, participating_teams_query_template)\n",
    "    \n",
    "    tournament_uri = URIRef(tournament_uri)\n",
    "    for result in tournament_details_results[\"results\"][\"bindings\"]:\n",
    "        tournament_name = Literal(result[\"tournamentLabel\"][\"value\"])\n",
    "        num_participants = Literal(result[\"numParticipants\"][\"value\"], datatype=XSD.integer)\n",
    "        \n",
    "        organizer = URIRef(result[\"organizer\"][\"value\"])\n",
    "        organizer_name = Literal(result[\"organizerLabel\"][\"value\"])\n",
    "        \n",
    "        winner = URIRef(result[\"winner\"][\"value\"])\n",
    "        winner_name = Literal(result[\"winnerLabel\"][\"value\"])\n",
    "        \n",
    "        country = URIRef(result[\"country\"][\"value\"])\n",
    "        \n",
    "        g.add((tournament_uri, SCHEMA.location, country))\n",
    "        \n",
    "        g.add((tournament_uri, RDF.type, SCHEMA.SportsEvent))\n",
    "        g.add((tournament_uri, SCHEMA.name, tournament_name))\n",
    "        g.add((tournament_uri, SCHEMA.numParticipants, num_participants))\n",
    "\n",
    "        g.add((tournament_uri, SCHEMA.organizer, organizer))\n",
    "        g.add((organizer, RDF.type, SCHEMA.Organization))\n",
    "        g.add((organizer, SCHEMA.name, organizer_name))\n",
    "\n",
    "        g.add((tournament_uri, SCHEMA.winner, winner))\n",
    "        g.add((winner, RDF.type, SCHEMA.SportsTeam))\n",
    "        g.add((winner, SCHEMA.name, winner_name))\n",
    "    \n",
    "    for result in participating_teams_results[\"results\"][\"bindings\"]:\n",
    "        if \"participatingTeam\" not in result:\n",
    "            continue\n",
    "        team_uri = URIRef(result[\"participatingTeam\"][\"value\"])\n",
    "        team_name = Literal(result[\"participatingTeamLabel\"][\"value\"])\n",
    "        \n",
    "        g.add((team_uri, RDF.type, SCHEMA.SportsTeam))\n",
    "        g.add((team_uri, SCHEMA.name, team_name))\n",
    "        g.add((tournament_uri, SCHEMA.participant, team_uri))\n",
    "    print(f\"{len(g)} triples.\".ljust(20), end=\"\\r\")"
   ],
   "metadata": {
    "collapsed": false
   },
   "id": "e4070f03c7b3c125",
   "execution_count": null
  },
  {
   "cell_type": "code",
   "outputs": [],
   "source": [
    "print('Number of triples:', len(g), '\\nNumber of players:', len(player_uris), '\\nNumber of teams:', len(team_uris), '\\nNumber of tournaments:', len(tournament_uris))"
   ],
   "metadata": {
    "collapsed": false
   },
   "id": "c2f2309dfcf76218",
   "execution_count": null
  },
  {
   "cell_type": "markdown",
   "source": [
    "## Matches"
   ],
   "metadata": {
    "collapsed": false
   },
   "id": "9738ca7f3f1eeac7"
  },
  {
   "cell_type": "code",
   "outputs": [],
   "source": [
    "match_query = \"\"\"\n",
    "SELECT ?match ?matchLabel ?organizer ?location ?date ?winner ?tournament WHERE{\n",
    "BIND(%s AS ?player)\n",
    "?match wdt:P710 ?player;\n",
    "       wdt:P664 ?organizer;\n",
    "       wdt:P17 ?location;\n",
    "       wdt:P585 ?date;\n",
    "       wdt:P1346 ?winner;\n",
    "       wdt:P361|wdt:P179 ?tournament.\n",
    "SERVICE wikibase:label { bd:serviceParam wikibase:language \"[AUTO_LANGUAGE],en\". }\n",
    "}\n",
    "\"\"\"\n",
    "\n",
    "\n",
    "def execute_match_query(player_uri):\n",
    "    query = match_query % f\"<{player_uri}>\"\n",
    "    return fetch_query(query)\n",
    "\n",
    "match_uris = set()\n",
    "\n",
    "for player_uri in player_uris:\n",
    "    match_results = execute_match_query(player_uri)\n",
    "    \n",
    "    for match in match_results[\"results\"][\"bindings\"]:\n",
    "        match_uri = URIRef(match[\"match\"][\"value\"])\n",
    "        match_uris.add(match[\"match\"][\"value\"])\n",
    "        match_name = Literal(match[\"matchLabel\"][\"value\"])\n",
    "        organizer_uri = URIRef(match[\"organizer\"][\"value\"])\n",
    "        location_uri = URIRef(match[\"location\"][\"value\"])\n",
    "        date = Literal(match[\"date\"][\"value\"], datatype=XSD.date)\n",
    "        winner_uri = URIRef(match[\"winner\"][\"value\"])\n",
    "        tournament_uri = URIRef(match[\"tournament\"][\"value\"])\n",
    "        \n",
    "        g.add((match_uri, RDF.type, SCHEMA.SportsEvent))\n",
    "        g.add((match_uri, SCHEMA.name, match_name))\n",
    "        g.add((match_uri, SCHEMA.organizer, organizer_uri))\n",
    "        g.add((match_uri, SCHEMA.location, location_uri))\n",
    "        g.add((match_uri, SCHEMA.startDate, date))\n",
    "        g.add((match_uri, SCHEMA.winner, winner_uri))\n",
    "        g.add((match_uri, SCHEMA.partOf, tournament_uri))\n",
    "        \n",
    "        g.add((organizer_uri, RDF.type, SCHEMA.Organization))\n",
    "        g.add((location_uri, RDF.type, SCHEMA.Country))\n",
    "        g.add((winner_uri, RDF.type, SCHEMA.SportsTeam))\n",
    "        g.add((tournament_uri, RDF.type, SCHEMA.SportsSeason))\n",
    "    print(f\"{len(g)} triples. {len(match_uris)} matches.\".ljust(20), end=\"\\r\")"
   ],
   "metadata": {
    "collapsed": false
   },
   "id": "e2114452def13269",
   "execution_count": null
  },
  {
   "cell_type": "code",
   "outputs": [],
   "source": [
    "# remove matches already in graph\n",
    "match_uris = match_uris - set([str(match) for match in g.subjects(RDF.type, SCHEMA.SportsEvent)])\n",
    "\n",
    "print('Number of triples:', len(g), '\\nNumber of players:', len(player_uris), '\\nNumber of teams:', len(team_uris), '\\nNumber of tournaments:', len(tournament_uris), '\\nNumber of matches:', len(match_uris))"
   ],
   "metadata": {
    "collapsed": false
   },
   "id": "ae9b4a52883ede1d",
   "execution_count": null
  },
  {
   "cell_type": "code",
   "outputs": [],
   "source": [
    "goal_query = \"\"\"\n",
    "SELECT ?player (COUNT(?player) AS ?goals) WHERE{\n",
    "BIND(%s AS ?match)\n",
    "?match wdt:P1363 ?player. # point scored by\n",
    "}\n",
    "GROUP BY ?player\n",
    "\"\"\"\n",
    "\n",
    "def execute_goal_query(match_uri):\n",
    "    query = goal_query % f\"<{match_uri}>\"\n",
    "    return fetch_query(query)\n",
    "\n",
    "for match_uri in match_uris:\n",
    "    goal_results = execute_goal_query(match_uri)\n",
    "    match_uri = URIRef(match_uri)\n",
    "    for goal in goal_results[\"results\"][\"bindings\"]:\n",
    "        player_uri = URIRef(goal[\"player\"][\"value\"])\n",
    "        goals = Literal(goal[\"goals\"][\"value\"], datatype=XSD.integer)\n",
    "        # Add triples that say \"player X scored Y goals in match Z\"\n",
    "        score = BNode()\n",
    "        g.add((score, RDF.type, EX.Score))\n",
    "        g.add((score, EX.player, player_uri))\n",
    "        g.add((score, EX.goals, goals))\n",
    "        g.add((score, EX.match, match_uri))\n",
    "    print(f\"{len(g)} triples.\".ljust(20), end=\"\\r\")"
   ],
   "metadata": {
    "collapsed": false
   },
   "id": "d1d3dae020678b63",
   "execution_count": null
  },
  {
   "cell_type": "code",
   "outputs": [],
   "source": [
    "print('Number of triples:', len(g), '\\nNumber of players:', len(player_uris), '\\nNumber of teams:', len(team_uris), '\\nNumber of tournaments:', len(tournament_uris), '\\nNumber of matches:', len(match_uris))"
   ],
   "metadata": {
    "collapsed": false
   },
   "id": "aa30ce5f10c4630a",
   "execution_count": null
  },
  {
   "cell_type": "code",
   "outputs": [],
   "source": [
    "# Save the graph to a file\n",
    "g.serialize(\"football_data.ttl\", format=\"turtle\")"
   ],
   "metadata": {
    "collapsed": false
   },
   "id": "2a8ad9983383e6ed",
   "execution_count": null
  },
  {
   "cell_type": "code",
   "outputs": [],
   "source": [],
   "metadata": {
    "collapsed": false
   },
   "id": "5d4fcae8021e6ad3"
  }
 ],
 "metadata": {
  "kernelspec": {
   "display_name": "Python 3",
   "language": "python",
   "name": "python3"
  },
  "language_info": {
   "codemirror_mode": {
    "name": "ipython",
    "version": 2
   },
   "file_extension": ".py",
   "mimetype": "text/x-python",
   "name": "python",
   "nbconvert_exporter": "python",
   "pygments_lexer": "ipython2",
   "version": "2.7.6"
  }
 },
 "nbformat": 4,
 "nbformat_minor": 5
}
