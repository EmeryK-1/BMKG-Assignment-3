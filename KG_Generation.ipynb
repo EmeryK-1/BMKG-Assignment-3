{
 "cells": [
  {
   "cell_type": "markdown",
   "source": [
    "# Football Data\n",
    "\n",
    "## Structure of the graph created\n",
    "\n",
    "```\n",
    "@prefix wd: <http://www.wikidata.org/entity/> .\n",
    "@prefix schema: <http://schema.org/> .\n",
    "@prefix foaf: <http://xmlns.com/foaf/0.1/> .\n",
    "@prefix ex: <http://example.org/> .\n",
    "\n",
    "<player_uri> \n",
    "    a schema:Person ;\n",
    "    schema:name \"Player Name\" ;\n",
    "    schema:nationality <country_uri> ;\n",
    "    ex:position <position_uri>;\n",
    "    schema:memberOf <team_uri> ;\n",
    "    ex:hasTenure <tenure_uri> . # Multiple tenures\n",
    "\n",
    "<position_uri> \n",
    "    a ex:PlayerPosition ;\n",
    "    schema:name \"Position Name\" .\n",
    "\n",
    "<country_uri> \n",
    "    a schema:Country ;\n",
    "    schema:name \"Country Name\" .\n",
    "\n",
    "<team_uri> \n",
    "    a schema:SportsTeam ;\n",
    "    schema:name \"Team Name\" ;\n",
    "    schema:location <country_uri> ;\n",
    "    schema:partOf <league_uri> .\n",
    "\n",
    "<tenure_uri> \n",
    "    a schema:Role ;\n",
    "    ex:atTeam <team_uri> ;\n",
    "    schema:startDate \"YYYY-MM-DD\"^^xsd:date ;\n",
    "    schema:endDate \"YYYY-MM-DD\"^^xsd:date. # Optional\n",
    "\n",
    "<league_uri> \n",
    "    a schema:SportsOrganization ;\n",
    "    schema:name \"League Name\" .\n",
    "\n",
    "<tournament_uri> \n",
    "    a schema:SportsSeason ;\n",
    "    schema:name \"Tournament Name\" ;\n",
    "    schema:numParticipants  X^^xsd:integer;\n",
    "    schema:location <country_uri> ;\n",
    "    schema:winner <team_uri> ;\n",
    "    schema:partOf <league_uri> ;\n",
    "    schema:organizer <organizer_uri> ;\n",
    "    schema:startDate \"YYYY-MM-DD\"^^xsd:date ;\n",
    "    schema:endDate \"YYYY-MM-DD\"^^xsd:date ;\n",
    "    schema:participant <team_uri> . # Multiple participants\n",
    "\n",
    "<organizer_uri> \n",
    "    a schema:Organization ;\n",
    "    schema:name \"Organizer Name\" .\n",
    "\n",
    "<match_uri> \n",
    "    a ex:Match ;\n",
    "    schema:name \"Match Name\" ;\n",
    "    schema:organizer <organizer_uri> ;\n",
    "    schema:location <country_uri> ;\n",
    "    schema:startDate \"YYYY-MM-DD\"^^xsd:date ;\n",
    "    schema:winner <team_uri> ;\n",
    "    schema:partOf <tournament_uri> .\n",
    "    schema:participant <team_uri> . # Multiple participants\n",
    "    schema:participant <player_uri> . # Multiple participants\n",
    "\n",
    "<goals_uri> \n",
    "    a ex:Score ;\n",
    "    ex:player <player_uri> ;\n",
    "    ex:goals X^^xsd:integer;\n",
    "    ex:match <match_uri> .\n",
    "```"
   ],
   "metadata": {
    "collapsed": false
   },
   "id": "30926b8b45a68fa5"
  },
  {
   "cell_type": "code",
   "execution_count": 1,
   "id": "initial_id",
   "metadata": {
    "collapsed": true,
    "ExecuteTime": {
     "end_time": "2024-03-27T11:49:59.251526600Z",
     "start_time": "2024-03-27T11:49:59.098555700Z"
    }
   },
   "outputs": [],
   "source": [
    "import requests\n",
    "from rdflib import Graph, Literal, Namespace, RDF, URIRef, BNode\n",
    "from rdflib.namespace import FOAF, XSD\n",
    "import re\n",
    "import hashlib\n",
    "\n",
    "def fetch_query(query):\n",
    "    url = 'https://query.wikidata.org/sparql'\n",
    "    response = requests.get(url, headers={'User-Agent': 'Mozilla/5.0'}, params={'query': query, 'format': 'json'})\n",
    "    data = response.json()\n",
    "    return data\n",
    "\n",
    "def assert_iso8601_zulu(string):\n",
    "    pattern = r\"\\d{4}-(0[1-9]|1[0-2])-(0[1-9]|[12]\\d|3[01])T(0\\d|1\\d|2[0-3]):[0-5]\\d:[0-5]\\dZ\"\n",
    "    return re.match(pattern, string)\n"
   ]
  },
  {
   "cell_type": "code",
   "outputs": [],
   "source": [
    "WD = Namespace(\"http://www.wikidata.org/entity/\")\n",
    "SCHEMA = Namespace(\"http://schema.org/\")\n",
    "EX = Namespace(\"http://example.org/\")\n",
    "g = Graph()\n",
    "g.bind(\"wd\", WD)\n",
    "g.bind(\"schema\", SCHEMA)\n",
    "g.bind(\"foaf\", FOAF)\n",
    "g.bind(\"ex\", EX)\n",
    "# load from football_data.ttl\n",
    "prev_g = Graph()\n",
    "#prev_g.parse(\"football_data.ttl\", format=\"turtle\");"
   ],
   "metadata": {
    "collapsed": false,
    "ExecuteTime": {
     "end_time": "2024-03-27T11:49:59.630467200Z",
     "start_time": "2024-03-27T11:49:59.627599500Z"
    }
   },
   "id": "1d6cad0aedc96234",
   "execution_count": 2
  },
  {
   "cell_type": "markdown",
   "source": [
    "## Players\n",
    "```\n",
    "@prefix wd: <http://www.wikidata.org/entity/> .\n",
    "@prefix schema: <http://schema.org/> .\n",
    "@prefix foaf: <http://xmlns.com/foaf/0.1/> .\n",
    "@prefix ex: <http://example.org/> .\n",
    "\n",
    "# Definition of a player\n",
    "<player_uri> a schema:Person ;\n",
    "    schema:name \"Player Name\" ;\n",
    "    schema:nationality <country_uri> ;\n",
    "    ex:position <position_uri> .\n",
    "\n",
    "# Definition of the player's position\n",
    "<position_uri> a ex:PlayerPosition ;\n",
    "    schema:name \"Position Name\" .\n",
    "\n",
    "# Definition of the player's nationality\n",
    "<country_uri> a schema:Country ;\n",
    "    schema:name \"Country Name\" .\n",
    "```"
   ],
   "metadata": {
    "collapsed": false
   },
   "id": "20c5f4b8c86236c9"
  },
  {
   "cell_type": "code",
   "outputs": [
    {
     "name": "stdout",
     "output_type": "stream",
     "text": [
      "19 - 4720 triples. 1059 players.                  \r"
     ]
    }
   ],
   "source": [
    "player_query = \"\"\"\n",
    "SELECT ?player ?playerLabel ?nationality ?nationalityLabel ?position ?positionLabel WHERE {\n",
    "    ?player wdt:P106 wd:Q937857; # Instance of soccer player\n",
    "            wdt:P27 ?nationality; # Nationality\n",
    "            wdt:P21 wd:Q6581097;\n",
    "            wdt:P413 ?position.\n",
    "    SERVICE wikibase:label { bd:serviceParam wikibase:language \"[AUTO_LANGUAGE],en\". }\n",
    "}\n",
    "\"\"\"\n",
    "player_uris = set()\n",
    "for i in range(0, 20):\n",
    "    player_results = fetch_query(player_query+f\"LIMIT {100} OFFSET {i*100}\")\n",
    "    \n",
    "    for player in player_results[\"results\"][\"bindings\"]:\n",
    "        player_uri = URIRef(player[\"player\"]['value'])\n",
    "        player_uris.add(player[\"player\"]['value'])\n",
    "        player_name = Literal(player[\"playerLabel\"]['value'])\n",
    "        nationality = Literal(player[\"nationalityLabel\"]['value'])\n",
    "        nationality_uri = URIRef(player[\"nationality\"]['value'])\n",
    "        position_uri = URIRef(player[\"position\"]['value'])\n",
    "        position = Literal(player[\"positionLabel\"]['value'])\n",
    "        \n",
    "        # Adding triples for each player\n",
    "        g.add((player_uri, RDF.type, SCHEMA.Person))\n",
    "        g.add((player_uri, SCHEMA.name, player_name))\n",
    "        g.add((player_uri, SCHEMA.nationality, nationality_uri))\n",
    "        g.add((player_uri, EX.position, position_uri))\n",
    "        \n",
    "        g.add((position_uri, RDF.type, EX.PlayerPosition))\n",
    "        g.add((position_uri, SCHEMA.name, position))\n",
    "        \n",
    "        g.add((nationality_uri, RDF.type, SCHEMA.Country))\n",
    "        g.add((nationality_uri, SCHEMA.name, nationality))\n",
    "        \n",
    "    print(f\"{i} - {len(g)} triples. {len(player_uris)} players.\".ljust(50), end=\"\\r\")"
   ],
   "metadata": {
    "collapsed": false,
    "ExecuteTime": {
     "end_time": "2024-03-27T11:54:13.987253800Z",
     "start_time": "2024-03-27T11:50:01.789430600Z"
    }
   },
   "id": "c01430dd1b7a5dab",
   "execution_count": 3
  },
  {
   "cell_type": "code",
   "outputs": [
    {
     "name": "stdout",
     "output_type": "stream",
     "text": [
      "Number of triples: 4720 \n",
      "Number of players: 1059\n"
     ]
    }
   ],
   "source": [
    "# remove player_uri if they are already in the graph\n",
    "player_uris = player_uris - set([str(player) for player in prev_g.subjects(RDF.type, SCHEMA.Person)])\n",
    "\n",
    "print('Number of triples:', len(g), '\\nNumber of players:', len(player_uris))"
   ],
   "metadata": {
    "collapsed": false,
    "ExecuteTime": {
     "end_time": "2024-03-27T11:54:13.993762Z",
     "start_time": "2024-03-27T11:54:13.989329900Z"
    }
   },
   "id": "37a397f333965f9e",
   "execution_count": 4
  },
  {
   "cell_type": "markdown",
   "source": [
    "## Teams\n",
    "\n",
    "```\n",
    "@prefix wd: <http://www.wikidata.org/entity/> .\n",
    "@prefix schema: <http://schema.org/> .\n",
    "@prefix foaf: <http://xmlns.com/foaf/0.1/> .\n",
    "@prefix ex: <http://example.org/> .\n",
    "\n",
    "<team_uri> a schema:SportsTeam ;\n",
    "    schema:name \"Team Name\" .\n",
    "\n",
    "<player_uri> schema:memberOf <team_uri> ;\n",
    "             ex:hasTenure <tenure_uri> . # Multiple tenures\n",
    "\n",
    "<tenure_uri> a schema:Role ;\n",
    "    ex:atTeam <team_uri> ;\n",
    "    schema:startDate \"YYYY-MM-DD\"^^xsd:date ;\n",
    "    schema:endDate \"YYYY-MM-DD\"^^xsd:date. # Optional\n",
    "```"
   ],
   "metadata": {
    "collapsed": false
   },
   "id": "3eeb4b35f838753b"
  },
  {
   "cell_type": "code",
   "outputs": [
    {
     "name": "stdout",
     "output_type": "stream",
     "text": [
      "59032 triples. 2378 teams. 100.00%                \r"
     ]
    }
   ],
   "source": [
    "team_query_template = \"\"\"\n",
    "SELECT ?team ?teamLabel ?startTime ?endTime WHERE {\n",
    "  BIND(%s AS ?player)\n",
    "  ?player p:P54 ?playerTeamStatement.\n",
    "  ?playerTeamStatement ps:P54 ?team;\n",
    "                    pq:P580 ?startTime;\n",
    "OPTIONAL { ?playerTeamStatement pq:P582 ?endTime. }\n",
    "  SERVICE wikibase:label { bd:serviceParam wikibase:language \"[AUTO_LANGUAGE],en\". }\n",
    "}\n",
    "\"\"\"\n",
    "\n",
    "def generate_tenure_uri(player_uri, team_uri, start_date):\n",
    "    # Use a consistent method to concatenate player_uri, team_uri, and start_date\n",
    "    # Hashing is used here to ensure the result is a fixed length and URI-friendly\n",
    "    uri_str = f\"{player_uri}-{team_uri}-{start_date}\"\n",
    "    hash_uri = hashlib.sha256(uri_str.encode()).hexdigest()\n",
    "    return f\"http://example.org/tenure/{hash_uri}\"\n",
    "\n",
    "team_uris = set()\n",
    "player_uris = list(player_uris)\n",
    "for i in range(0, len(player_uris)):\n",
    "    player_uri = player_uris[i]\n",
    "    team_query = team_query_template % f\"<{player_uri}>\"\n",
    "    team_results = fetch_query(team_query)\n",
    "    # Process team_results and add data to the knowledge graph\n",
    "    for result in team_results[\"results\"][\"bindings\"]:\n",
    "        team_uri = URIRef(result[\"team\"][\"value\"])\n",
    "        team_uris.add(result[\"team\"][\"value\"])\n",
    "        team_name = Literal(result[\"teamLabel\"][\"value\"])\n",
    "        start_time = Literal(result[\"startTime\"][\"value\"], datatype=XSD.date)\n",
    "        end_time = result.get(\"endTime\", {}).get(\"value\")  # Handle potential missing end time\n",
    "        player_ref = URIRef(player_uri)\n",
    "        \n",
    "        # Adding team information\n",
    "        g.add((team_uri, RDF.type, SCHEMA.SportsTeam))\n",
    "        g.add((team_uri, SCHEMA.name, team_name))\n",
    "        \n",
    "        g.add((player_ref, SCHEMA.memberOf, team_uri))\n",
    "\n",
    "        tenure_uri = generate_tenure_uri(player_uri, team_uri, start_time)\n",
    "        tenure_ref = URIRef(tenure_uri)\n",
    "        player_ref = URIRef(player_uri)\n",
    "        \n",
    "        g.add((tenure_ref, RDF.type, SCHEMA.Role))\n",
    "        g.add((tenure_ref, EX.atTeam, team_uri))\n",
    "        g.add((player_ref, EX.hasTenure, tenure_ref))\n",
    "        g.add((tenure_ref, SCHEMA.startDate, start_time))\n",
    "        if end_time and assert_iso8601_zulu(end_time):  # If there's an end date\n",
    "            end_time = Literal(end_time, datatype=XSD.date)\n",
    "            g.add((tenure_ref, SCHEMA.endDate, end_time))\n",
    "        \n",
    "    print(f\"{len(g)} triples. {len(team_uris)} teams. {100*(i+1)/len(player_uris):.2f}%\".ljust(50), end=\"\\r\")\n",
    "player_uris = set(player_uris)"
   ],
   "metadata": {
    "collapsed": false,
    "ExecuteTime": {
     "end_time": "2024-03-27T11:59:02.839560600Z",
     "start_time": "2024-03-27T11:54:13.995866700Z"
    }
   },
   "id": "b29972f652545acd",
   "execution_count": 5
  },
  {
   "cell_type": "code",
   "outputs": [
    {
     "name": "stdout",
     "output_type": "stream",
     "text": [
      "Number of triples: 59032 \n",
      "Number of players: 1059 \n",
      "Number of teams: 2378\n"
     ]
    }
   ],
   "source": [
    "# remove teams that are already in the graph\n",
    "team_uris = team_uris - set([str(team) for team in prev_g.subjects(RDF.type, SCHEMA.SportsTeam)])\n",
    "\n",
    "print('Number of triples:', len(g), '\\nNumber of players:', len(player_uris), '\\nNumber of teams:', len(team_uris))"
   ],
   "metadata": {
    "collapsed": false,
    "ExecuteTime": {
     "end_time": "2024-03-27T11:59:02.846456400Z",
     "start_time": "2024-03-27T11:59:02.836920400Z"
    }
   },
   "id": "98f3cdd4a31ff6cf",
   "execution_count": 6
  },
  {
   "cell_type": "markdown",
   "source": [
    "#### Team details\n",
    "\n",
    "```\n",
    "@prefix wd: <http://www.wikidata.org/entity/> .\n",
    "@prefix schema: <http://schema.org/> .\n",
    "@prefix foaf: <http://xmlns.com/foaf/0.1/> .\n",
    "@prefix ex: <http://example.org/> .\n",
    "\n",
    "# Team information expanded with country and league\n",
    "<team_uri> a schema:SportsTeam ;\n",
    "    schema:location <country_uri> ;\n",
    "    schema:partOf <league_uri> .\n",
    "\n",
    "# Definition of the country the team is based in\n",
    "<country_uri> a schema:Country ;\n",
    "    schema:name \"Country Name\" .\n",
    "\n",
    "# Definition of the league the team competes in\n",
    "<league_uri> a schema:SportsOrganization ;\n",
    "    schema:name \"League Name\" .\n",
    "```"
   ],
   "metadata": {
    "collapsed": false
   },
   "id": "16969078f2273e38"
  },
  {
   "cell_type": "code",
   "outputs": [
    {
     "name": "stdout",
     "output_type": "stream",
     "text": [
      "63670 triples. 100.00%                            \r"
     ]
    }
   ],
   "source": [
    "team_detail_query_template = \"\"\"\n",
    "SELECT ?teamLabel ?country ?league ?leagueLabel WHERE {\n",
    "  BIND(<TEAM_URI> AS ?team)\n",
    "  ?team wdt:P17 ?country; # Country the team is based in\n",
    "        wdt:P118 ?league. # League the team competes in\n",
    "  SERVICE wikibase:label { bd:serviceParam wikibase:language \"[AUTO_LANGUAGE],en\". }\n",
    "}\n",
    "\"\"\"\n",
    "\n",
    "def execute_team_detail_query(team_uri):\n",
    "    # Prepare the query by replacing <TEAM_URI> with the current team's URI\n",
    "    query = team_detail_query_template.replace(\"<TEAM_URI>\", f\"<{team_uri}>\")\n",
    "    # Execute the query and return the results\n",
    "    return fetch_query(query)\n",
    "\n",
    "team_uris = list(team_uris)\n",
    "for i in range(0, len(team_uris)):\n",
    "    team_uri = team_uris[i]\n",
    "    # Execute query for the current team\n",
    "    team_detail_results = execute_team_detail_query(team_uri)\n",
    "    \n",
    "    # Process results and add to the RDF graph\n",
    "    for result in team_detail_results[\"results\"][\"bindings\"]:\n",
    "        # Assuming you have a function to convert the URI to a RDFLib URIRef if needed\n",
    "        team_uri_ref = URIRef(team_uri)\n",
    "        country_uri = URIRef(result[\"country\"][\"value\"])\n",
    "        league_uri = URIRef(result[\"league\"][\"value\"])\n",
    "        league = Literal(result[\"leagueLabel\"][\"value\"])\n",
    "        \n",
    "        # Add country and league to the graph as instances of their respective types\n",
    "        g.add((country_uri, RDF.type, SCHEMA.Country))\n",
    "        g.add((league_uri, RDF.type, SCHEMA.SportsOrganization))\n",
    "        g.add((league_uri, SCHEMA.name, league))\n",
    "        \n",
    "        # Link team to country and league\n",
    "        g.add((team_uri_ref, SCHEMA.location, country_uri))\n",
    "        g.add((team_uri_ref, SCHEMA.partOf, league_uri))\n",
    "    print(f\"{len(g)} triples. {100*(i+1)/len(team_uris):.2f}%\".ljust(50), end=\"\\r\")\n",
    "team_uris = set(team_uris)"
   ],
   "metadata": {
    "collapsed": false,
    "ExecuteTime": {
     "end_time": "2024-03-27T12:07:48.827250800Z",
     "start_time": "2024-03-27T11:59:02.842079300Z"
    }
   },
   "id": "ba4123683092e027",
   "execution_count": 7
  },
  {
   "cell_type": "code",
   "outputs": [
    {
     "name": "stdout",
     "output_type": "stream",
     "text": [
      "Number of triples: 63670 \n",
      "Number of players: 1059 \n",
      "Number of teams: 2378\n"
     ]
    }
   ],
   "source": [
    "print('Number of triples:', len(g), '\\nNumber of players:', len(player_uris), '\\nNumber of teams:', len(team_uris))"
   ],
   "metadata": {
    "collapsed": false,
    "ExecuteTime": {
     "end_time": "2024-03-27T12:07:48.831068200Z",
     "start_time": "2024-03-27T12:07:48.828369300Z"
    }
   },
   "id": "cbf47344b892edda",
   "execution_count": 8
  },
  {
   "cell_type": "markdown",
   "source": [
    "#### Team victories\n",
    "    \n",
    "```\n",
    "@prefix wd: <http://www.wikidata.org/entity/> .\n",
    "@prefix schema: <http://schema.org/> .\n",
    "@prefix foaf: <http://xmlns.com/foaf/0.1/> .\n",
    "@prefix ex: <http://example.org/> .\n",
    "\n",
    "# Definition of a tournament (sports season) that a team has won\n",
    "<tournament_uri> a schema:SportsSeason ;\n",
    "    schema:name \"Tournament Name\" ;\n",
    "    schema:winner <team_uri> ;\n",
    "    schema:partOf <league_uri> ;\n",
    "    schema:organizer <organizer_uri> ;\n",
    "    schema:startDate \"YYYY-MM-DD\"^^xsd:date ;\n",
    "    schema:endDate \"YYYY-MM-DD\"^^xsd:date .\n",
    "\n",
    "# Definition of the league associated with the tournament\n",
    "<league_uri> a schema:SportsOrganization ;\n",
    "    schema:name \"League Name\" .\n",
    "\n",
    "# Definition of the organizer of the tournament\n",
    "<organizer_uri> a schema:Organization ;\n",
    "    schema:name \"Organizer Name\" .\n",
    "```"
   ],
   "metadata": {
    "collapsed": false
   },
   "id": "a8941d6256d38225"
  },
  {
   "cell_type": "code",
   "outputs": [
    {
     "name": "stdout",
     "output_type": "stream",
     "text": [
      "68378 triples. 689 tournaments. 100.00%           \r"
     ]
    }
   ],
   "source": [
    "team_victory_query_template = \"\"\"\n",
    "SELECT ?team ?tournament ?tournamentLabel ?organizer ?organizerLabel ?league ?leagueLabel ?startTime ?endTime WHERE {\n",
    "  BIND(<TEAM_URI> AS ?team)\n",
    "  ?team wdt:P2522 ?tournament.\n",
    "  ?tournament wdt:P31 wd:Q27020041; # Instance of sports season\n",
    "              wdt:P664 ?organizer;\n",
    "              wdt:P3450 ?league.\n",
    "                \n",
    "    OPTIONAL {\n",
    "        ?tournament wdt:P580 ?startTime;\n",
    "                    wdt:P582 ?endTime.\n",
    "    }\n",
    "    OPTIONAL {\n",
    "        ?tournament wdt:P585 ?startTime;\n",
    "    }\n",
    "  SERVICE wikibase:label { bd:serviceParam wikibase:language \"[AUTO_LANGUAGE],en\". }\n",
    "}\n",
    "\"\"\"\n",
    "\n",
    "def execute_team_victory_query(team_uri):\n",
    "    # Prepare the query by inserting the current team URI\n",
    "    query = team_victory_query_template.replace(\"<TEAM_URI>\", f\"<{team_uri}>\")\n",
    "    # Execute the query\n",
    "    return fetch_query(query)\n",
    "\n",
    "# Initialize a set to store all unique tournament URIs encountered\n",
    "tournament_uris = set()\n",
    "team_uris = list(team_uris)\n",
    "# Loop through each team URI to execute the victory query\n",
    "for i in range(0, len(team_uris)):\n",
    "    team_uri = team_uris[i]\n",
    "    # Execute the query for the current team\n",
    "    team_victory_results = execute_team_victory_query(team_uri)\n",
    "    \n",
    "    # Process the results for each team's victories\n",
    "    for result in team_victory_results[\"results\"][\"bindings\"]:\n",
    "        tournament_uri = URIRef(result[\"tournament\"][\"value\"])\n",
    "        tournament_uris.add(result[\"tournament\"][\"value\"])  # Collect tournament URIs\n",
    "        \n",
    "        # Remaining processing, including adding data to the RDF graph\n",
    "        tournament_label = Literal(result[\"tournamentLabel\"][\"value\"])\n",
    "        organizer_uri = URIRef(result[\"organizer\"][\"value\"])\n",
    "        organizer_label = Literal(result[\"organizerLabel\"][\"value\"])\n",
    "        league_uri = URIRef(result[\"league\"][\"value\"])\n",
    "        league_label = Literal(result[\"leagueLabel\"][\"value\"])\n",
    "        start_time = result.get(\"startTime\", {}).get(\"value\")\n",
    "        end_time = result.get(\"endTime\", {}).get(\"value\")\n",
    "        \n",
    "        g.add((tournament_uri, RDF.type, SCHEMA.SportsSeason))\n",
    "        g.add((tournament_uri, SCHEMA.name, tournament_label))\n",
    "        g.add((tournament_uri, SCHEMA.winner, URIRef(team_uri)))\n",
    "        g.add((tournament_uri, SCHEMA.partOf, league_uri))\n",
    "        g.add((tournament_uri, SCHEMA.organizer, organizer_uri))\n",
    "        \n",
    "        if start_time:\n",
    "            start_time = Literal(start_time, datatype=XSD.date)\n",
    "            g.add((tournament_uri, SCHEMA.startDate, start_time))\n",
    "        if end_time:\n",
    "            end_time = Literal(end_time, datatype=XSD.date)\n",
    "            g.add((tournament_uri, SCHEMA.endDate, end_time))\n",
    "            \n",
    "        g.add((league_uri, RDF.type, SCHEMA.SportsOrganization))\n",
    "        g.add((league_uri, SCHEMA.name, league_label))\n",
    "        \n",
    "        g.add((organizer_uri, RDF.type, SCHEMA.Organization))\n",
    "        g.add((organizer_uri, SCHEMA.name, organizer_label))\n",
    "        \n",
    "    print(f\"{len(g)} triples. {len(tournament_uris)} tournaments. {100*(i+1)/len(team_uris):.2f}%\".ljust(50), end=\"\\r\")\n",
    "team_uris = set(team_uris)"
   ],
   "metadata": {
    "collapsed": false,
    "ExecuteTime": {
     "end_time": "2024-03-27T12:16:52.487946200Z",
     "start_time": "2024-03-27T12:07:48.835436400Z"
    }
   },
   "id": "79f1d772e6607ff8",
   "execution_count": 9
  },
  {
   "cell_type": "code",
   "outputs": [
    {
     "name": "stdout",
     "output_type": "stream",
     "text": [
      "Number of triples: 68378 \n",
      "Number of players: 1059 \n",
      "Number of teams: 2378 \n",
      "Number of tournaments: 689\n"
     ]
    }
   ],
   "source": [
    "# remove tournament_uris that are already in the graph\n",
    "tournament_uris = tournament_uris - set([str(tournament) for tournament in prev_g.subjects(RDF.type, SCHEMA.SportsSeason)])\n",
    "\n",
    "print('Number of triples:', len(g), '\\nNumber of players:', len(player_uris), '\\nNumber of teams:', len(team_uris), '\\nNumber of tournaments:', len(tournament_uris))"
   ],
   "metadata": {
    "collapsed": false,
    "ExecuteTime": {
     "end_time": "2024-03-27T12:16:52.490090200Z",
     "start_time": "2024-03-27T12:16:52.484384100Z"
    }
   },
   "id": "e293fb7baa34fbf7",
   "execution_count": 10
  },
  {
   "cell_type": "markdown",
   "source": [
    "## Tournaments\n",
    "\n",
    "```\n",
    "@prefix wd: <http://www.wikidata.org/entity/> .\n",
    "@prefix schema: <http://schema.org/> .\n",
    "@prefix foaf: <http://xmlns.com/foaf/0.1/> .\n",
    "@prefix ex: <http://example.org/> .\n",
    "\n",
    "<tournament_uri> a ex:Tournament ;\n",
    "    schema:name \"Tournament Name\" ;\n",
    "    schema:numParticipants <number_of_participants>;\n",
    "    schema:location <country_uri> ;\n",
    "    schema:organizer <organizer_uri> ;\n",
    "    schema:winner <winning_team_uri> ;\n",
    "    schema:participant <team_uri> . # Multiple participants\n",
    "\n",
    "<organizer_uri> a schema:Organization ;\n",
    "    schema:name \"Organizer Name\" .\n",
    "\n",
    "<winner_uri> a schema:SportsTeam ;\n",
    "    schema:name \"Team Name\" .\n",
    "\n",
    "<team_uri> a schema:SportsTeam ;\n",
    "    schema:name \"Team Name\" .\n",
    "```"
   ],
   "metadata": {
    "collapsed": false
   },
   "id": "a18c2093ef299abe"
  },
  {
   "cell_type": "code",
   "outputs": [
    {
     "name": "stdout",
     "output_type": "stream",
     "text": [
      "77349 triples. 100.00%                            \r"
     ]
    }
   ],
   "source": [
    "tournament_details_query_template = \"\"\"\n",
    "SELECT ?tournamentLabel ?country ?numParticipants ?organizer ?organizerLabel ?winner ?winnerLabel WHERE {\n",
    "  BIND(<TOURNAMENT_URI> AS ?tournament)\n",
    "  ?tournament wdt:P17 ?country; # Country the tournament took place in\n",
    "              wdt:P1132 ?numParticipants;\n",
    "              wdt:P664 ?organizer;\n",
    "              wdt:P1346 ?winner.\n",
    "  SERVICE wikibase:label { bd:serviceParam wikibase:language \"[AUTO_LANGUAGE],en\". }\n",
    "}\n",
    "\"\"\"\n",
    "\n",
    "participating_teams_query_template = \"\"\"\n",
    "SELECT ?participatingTeam ?participatingTeamLabel WHERE {\n",
    "  BIND(<TOURNAMENT_URI> AS ?tournament)\n",
    "  ?tournament wdt:P1923 ?participatingTeam.\n",
    "  SERVICE wikibase:label { bd:serviceParam wikibase:language \"[AUTO_LANGUAGE],en\". }\n",
    "}\n",
    "\"\"\"\n",
    "\n",
    "def execute_query_for_tournament(tournament_uri, query_template):\n",
    "    # Replace <TOURNAMENT_URI> with the current tournament URI in the query template\n",
    "    query = query_template.replace(\"<TOURNAMENT_URI>\", f\"<{tournament_uri}>\")\n",
    "    # Execute the query\n",
    "    return fetch_query(query)\n",
    "\n",
    "# Loop through each tournament URI and execute both queries\n",
    "tournament_uris = list(tournament_uris)\n",
    "for i in range(0, len(tournament_uris)):\n",
    "    tournament_uri = tournament_uris[i]\n",
    "    # Assuming tournaments_uri contains string representations of URIs\n",
    "    tournament_details_results = execute_query_for_tournament(tournament_uri, tournament_details_query_template)\n",
    "    participating_teams_results = execute_query_for_tournament(tournament_uri, participating_teams_query_template)\n",
    "    \n",
    "    tournament_uri = URIRef(tournament_uri)\n",
    "    for result in tournament_details_results[\"results\"][\"bindings\"]:\n",
    "        tournament_name = Literal(result[\"tournamentLabel\"][\"value\"])\n",
    "        num_participants = Literal(result[\"numParticipants\"][\"value\"], datatype=XSD.integer)\n",
    "        \n",
    "        organizer = URIRef(result[\"organizer\"][\"value\"])\n",
    "        organizer_name = Literal(result[\"organizerLabel\"][\"value\"])\n",
    "        \n",
    "        winner = URIRef(result[\"winner\"][\"value\"])\n",
    "        winner_name = Literal(result[\"winnerLabel\"][\"value\"])\n",
    "        \n",
    "        country = URIRef(result[\"country\"][\"value\"])\n",
    "        \n",
    "        g.add((tournament_uri, SCHEMA.location, country))\n",
    "        g.add((tournament_uri, RDF.type, EX.Tournament))\n",
    "        g.add((tournament_uri, SCHEMA.name, tournament_name))\n",
    "        g.add((tournament_uri, SCHEMA.numParticipants, num_participants))\n",
    "        g.add((tournament_uri, SCHEMA.organizer, organizer))\n",
    "        g.add((tournament_uri, SCHEMA.winner, winner))\n",
    "        \n",
    "        g.add((organizer, RDF.type, SCHEMA.Organization))\n",
    "        g.add((organizer, SCHEMA.name, organizer_name))\n",
    "\n",
    "        g.add((winner, RDF.type, SCHEMA.SportsTeam))\n",
    "        g.add((winner, SCHEMA.name, winner_name))\n",
    "    \n",
    "    for result in participating_teams_results[\"results\"][\"bindings\"]:\n",
    "        if \"participatingTeam\" not in result:\n",
    "            continue\n",
    "        team_uri = URIRef(result[\"participatingTeam\"][\"value\"])\n",
    "        team_name = Literal(result[\"participatingTeamLabel\"][\"value\"])\n",
    "        \n",
    "        g.add((team_uri, RDF.type, SCHEMA.SportsTeam))\n",
    "        g.add((team_uri, SCHEMA.name, team_name))\n",
    "        g.add((tournament_uri, SCHEMA.participant, team_uri))\n",
    "    print(f\"{len(g)} triples. {100*(i+1)/len(tournament_uris):.2f}%\".ljust(50), end=\"\\r\")\n",
    "tournament_uris = set(tournament_uris)"
   ],
   "metadata": {
    "collapsed": false,
    "ExecuteTime": {
     "end_time": "2024-03-27T12:22:10.513170500Z",
     "start_time": "2024-03-27T12:16:52.492195800Z"
    }
   },
   "id": "e4070f03c7b3c125",
   "execution_count": 11
  },
  {
   "cell_type": "code",
   "outputs": [
    {
     "name": "stdout",
     "output_type": "stream",
     "text": [
      "Number of triples: 77349 \n",
      "Number of players: 1059 \n",
      "Number of teams: 2378 \n",
      "Number of tournaments: 689\n"
     ]
    }
   ],
   "source": [
    "print('Number of triples:', len(g), '\\nNumber of players:', len(player_uris), '\\nNumber of teams:', len(team_uris), '\\nNumber of tournaments:', len(tournament_uris))"
   ],
   "metadata": {
    "collapsed": false,
    "ExecuteTime": {
     "end_time": "2024-03-27T12:22:10.522392300Z",
     "start_time": "2024-03-27T12:22:10.516370700Z"
    }
   },
   "id": "c2f2309dfcf76218",
   "execution_count": 12
  },
  {
   "cell_type": "markdown",
   "source": [
    "## Matches\n",
    "\n",
    "```\n",
    "@prefix wd: <http://www.wikidata.org/entity/> .\n",
    "@prefix schema: <http://schema.org/> .\n",
    "@prefix foaf: <http://xmlns.com/foaf/0.1/> .\n",
    "@prefix ex: <http://example.org/> .\n",
    "\n",
    "<match_uri> a ex:Match ;\n",
    "    schema:name \"Match Name\" ;\n",
    "    schema:organizer <organizer_uri> ;\n",
    "    schema:location <country_uri> ;\n",
    "    schema:startDate \"YYYY-MM-DD\"^^xsd:date ;\n",
    "    schema:winner <winning_team_uri> ;\n",
    "    schema:partOf <tournament_uri> .\n",
    "    schema:participant <team_uri> . # Multiple participants\n",
    "    schema:participant <player_uri> . # Multiple participants\n",
    "\n",
    "<organizer_uri> a schema:Organization ;\n",
    "    schema:name \"Organizer Name\" .\n",
    "\n",
    "<country_uri> a schema:Country .\n",
    "\n",
    "<winning_team_uri> a schema:SportsTeam .\n",
    "\n",
    "<tournament_uri> a schema:SportsSeason .\n",
    "```"
   ],
   "metadata": {
    "collapsed": false
   },
   "id": "9738ca7f3f1eeac7"
  },
  {
   "cell_type": "code",
   "outputs": [
    {
     "name": "stdout",
     "output_type": "stream",
     "text": [
      "106577 triples. 3496 matches. 100.00%             \r"
     ]
    }
   ],
   "source": [
    "match_query = \"\"\"\n",
    "SELECT ?match ?matchLabel ?organizer ?location ?date ?winner ?tournament WHERE{\n",
    "BIND(%s AS ?player)\n",
    "?match wdt:P710 ?player;\n",
    "       wdt:P664 ?organizer;\n",
    "       wdt:P17 ?location;\n",
    "       wdt:P585 ?date;\n",
    "       wdt:P1346 ?winner;\n",
    "       wdt:P361|wdt:P179 ?tournament.\n",
    "SERVICE wikibase:label { bd:serviceParam wikibase:language \"[AUTO_LANGUAGE],en\". }\n",
    "}\n",
    "\"\"\"\n",
    "\n",
    "\n",
    "def execute_match_query(player_uri):\n",
    "    query = match_query % f\"<{player_uri}>\"\n",
    "    return fetch_query(query)\n",
    "\n",
    "match_uris = set()\n",
    "player_uris = list(player_uris)\n",
    "for i in range(0, len(player_uris)):\n",
    "    player_uri = player_uris[i]\n",
    "    match_results = execute_match_query(player_uri)\n",
    "    \n",
    "    for match in match_results[\"results\"][\"bindings\"]:\n",
    "        match_uri = URIRef(match[\"match\"][\"value\"])\n",
    "        match_uris.add(match[\"match\"][\"value\"])\n",
    "        match_name = Literal(match[\"matchLabel\"][\"value\"])\n",
    "        organizer_uri = URIRef(match[\"organizer\"][\"value\"])\n",
    "        location_uri = URIRef(match[\"location\"][\"value\"])\n",
    "        date = Literal(match[\"date\"][\"value\"], datatype=XSD.date)\n",
    "        winner_uri = URIRef(match[\"winner\"][\"value\"])\n",
    "        tournament_uri = URIRef(match[\"tournament\"][\"value\"])\n",
    "        \n",
    "        g.add((match_uri, RDF.type, EX.Match))\n",
    "        g.add((match_uri, SCHEMA.name, match_name))\n",
    "        g.add((match_uri, SCHEMA.organizer, organizer_uri))\n",
    "        g.add((match_uri, SCHEMA.location, location_uri))\n",
    "        g.add((match_uri, SCHEMA.startDate, date))\n",
    "        g.add((match_uri, SCHEMA.winner, winner_uri))\n",
    "        g.add((match_uri, SCHEMA.partOf, tournament_uri))\n",
    "        \n",
    "        g.add((organizer_uri, RDF.type, SCHEMA.Organization))\n",
    "        g.add((location_uri, RDF.type, SCHEMA.Country))\n",
    "        g.add((winner_uri, RDF.type, SCHEMA.SportsTeam))\n",
    "        g.add((tournament_uri, RDF.type, SCHEMA.SportsSeason))\n",
    "    print(f\"{len(g)} triples. {len(match_uris)} matches. {100*(i+1)/len(player_uris):.2f}%\".ljust(50), end=\"\\r\")\n",
    "player_uris = set(player_uris)"
   ],
   "metadata": {
    "collapsed": false,
    "ExecuteTime": {
     "end_time": "2024-03-27T12:25:59.081560900Z",
     "start_time": "2024-03-27T12:22:10.522475800Z"
    }
   },
   "id": "e2114452def13269",
   "execution_count": 13
  },
  {
   "cell_type": "code",
   "outputs": [
    {
     "name": "stdout",
     "output_type": "stream",
     "text": [
      "Number of triples: 106577 \n",
      "Number of players: 1059 \n",
      "Number of teams: 2378 \n",
      "Number of tournaments: 689 \n",
      "Number of matches: 3496\n"
     ]
    }
   ],
   "source": [
    "# remove matches already in graph\n",
    "match_uris = match_uris - set([str(match) for match in prev_g.subjects(RDF.type, SCHEMA.SportsEvent)])\n",
    "\n",
    "print('Number of triples:', len(g), '\\nNumber of players:', len(player_uris), '\\nNumber of teams:', len(team_uris), '\\nNumber of tournaments:', len(tournament_uris), '\\nNumber of matches:', len(match_uris))"
   ],
   "metadata": {
    "collapsed": false,
    "ExecuteTime": {
     "end_time": "2024-03-27T12:25:59.090228700Z",
     "start_time": "2024-03-27T12:25:59.083564200Z"
    }
   },
   "id": "ae9b4a52883ede1d",
   "execution_count": 14
  },
  {
   "cell_type": "markdown",
   "source": [
    "#### Get match participants and participating teams"
   ],
   "metadata": {
    "collapsed": false
   },
   "id": "1d62c4223599acfc"
  },
  {
   "cell_type": "code",
   "outputs": [
    {
     "name": "stdout",
     "output_type": "stream",
     "text": [
      "223338 triples. 100.00%                           \r"
     ]
    }
   ],
   "source": [
    "match_team_query = \"\"\"\n",
    "SELECT ?match ?team WHERE{\n",
    "BIND(%s AS ?match)\n",
    "?match wdt:P1923 ?team.\n",
    "}\n",
    "\"\"\"\n",
    "\n",
    "match_player_query = \"\"\"\n",
    "SELECT ?match ?player WHERE{\n",
    "BIND(%s AS ?match)\n",
    "?match wdt:P710 ?player.\n",
    "}\n",
    "\"\"\"\n",
    "\n",
    "def execute_extra_match_query(query, match_uri):\n",
    "    query = query % f\"<{match_uri}>\"\n",
    "    return fetch_query(query)\n",
    "\n",
    "match_uris = list(match_uris)\n",
    "for i in range(0, len(match_uris)):\n",
    "    match_uri = match_uris[i]\n",
    "    match_team_results = execute_extra_match_query(match_team_query, match_uri)\n",
    "    match_player_results = execute_extra_match_query(match_player_query, match_uri)\n",
    "    \n",
    "    match_uri = URIRef(match_uri)\n",
    "    for team in match_team_results[\"results\"][\"bindings\"]:\n",
    "        team_uri = URIRef(team[\"team\"][\"value\"])\n",
    "        g.add((team_uri, RDF.type, SCHEMA.SportsTeam))\n",
    "        g.add((match_uri, SCHEMA.participant, team_uri))\n",
    "    \n",
    "    for player in match_player_results[\"results\"][\"bindings\"]:\n",
    "        player_uri = URIRef(player[\"player\"][\"value\"])\n",
    "        g.add((player_uri, RDF.type, SCHEMA.Person))\n",
    "        g.add((match_uri, SCHEMA.participant, player_uri))\n",
    "    print(f\"{len(g)} triples. {100*(i+1)/len(match_uris):.2f}%\".ljust(50), end=\"\\r\")\n",
    "match_uris = set(match_uris)"
   ],
   "metadata": {
    "collapsed": false,
    "ExecuteTime": {
     "end_time": "2024-03-27T12:44:37.721254700Z",
     "start_time": "2024-03-27T12:25:59.089232800Z"
    }
   },
   "id": "d54f991b4532db81",
   "execution_count": 15
  },
  {
   "cell_type": "markdown",
   "source": [
    "#### Goals\n",
    "\n",
    "```\n",
    "@prefix wd: <http://www.wikidata.org/entity/> .\n",
    "@prefix schema: <http://schema.org/> .\n",
    "@prefix foaf: <http://xmlns.com/foaf/0.1/> .\n",
    "@prefix ex: <http://example.org/> .\n",
    "\n",
    "<goals_uri> a ex:Score ;\n",
    "    ex:player <player_uri> ;\n",
    "    ex:goals <number_of_goals> ;\n",
    "    ex:match <match_uri> .\n",
    "\n",
    "<player_uri> a schema:Person .\n",
    "<match_uri> a ex:Match .\n",
    "```"
   ],
   "metadata": {
    "collapsed": false
   },
   "id": "83b4bf5ee74d9053"
  },
  {
   "cell_type": "code",
   "outputs": [
    {
     "name": "stdout",
     "output_type": "stream",
     "text": [
      "259602 triples. 100.00%                           \r"
     ]
    }
   ],
   "source": [
    "goal_query = \"\"\"\n",
    "SELECT ?player (COUNT(?player) AS ?goals) WHERE{\n",
    "BIND(%s AS ?match)\n",
    "?match wdt:P1363 ?player. # point scored by\n",
    "}\n",
    "GROUP BY ?player\n",
    "\"\"\"\n",
    "\n",
    "def generate_goals_uri(player_uri, match_uri):\n",
    "    # Use a consistent method to concatenate player_uri, team_uri, and start_date\n",
    "    # Hashing is used here to ensure the result is a fixed length and URI-friendly\n",
    "    uri_str = f\"{player_uri}-{match_uri}\"\n",
    "    hash_uri = hashlib.sha256(uri_str.encode()).hexdigest()\n",
    "    return f\"http://example.org/scores/{hash_uri}\"\n",
    "\n",
    "def execute_goal_query(match_uri):\n",
    "    query = goal_query % f\"<{match_uri}>\"\n",
    "    return fetch_query(query)\n",
    "\n",
    "match_uris = list(match_uris)\n",
    "for i in range(0, len(match_uris)):\n",
    "    match_uri = match_uris[i]\n",
    "    goal_results = execute_goal_query(match_uri)\n",
    "    match_uri = URIRef(match_uri)\n",
    "    for goal in goal_results[\"results\"][\"bindings\"]:\n",
    "        player_uri = URIRef(goal[\"player\"][\"value\"])\n",
    "        goals = Literal(goal[\"goals\"][\"value\"], datatype=XSD.integer)\n",
    "        \n",
    "        goals_uri = generate_goals_uri(player_uri, match_uri)\n",
    "        goals_ref = URIRef(goals_uri)\n",
    "        \n",
    "        g.add((goals_ref, RDF.type, EX.Score))\n",
    "        g.add((goals_ref, EX.player, player_uri))\n",
    "        g.add((goals_ref, EX.goals, goals))\n",
    "        g.add((goals_ref, EX.match, match_uri))\n",
    "    print(f\"{len(g)} triples. {100*(i+1)/len(match_uris):.2f}%\".ljust(50), end=\"\\r\")\n",
    "match_uris = set(match_uris)"
   ],
   "metadata": {
    "collapsed": false,
    "ExecuteTime": {
     "end_time": "2024-03-27T12:54:02.942170500Z",
     "start_time": "2024-03-27T12:44:37.721254700Z"
    }
   },
   "id": "d1d3dae020678b63",
   "execution_count": 16
  },
  {
   "cell_type": "code",
   "outputs": [
    {
     "name": "stdout",
     "output_type": "stream",
     "text": [
      "Number of triples: 259602 \n",
      "Number of players: 1059 \n",
      "Number of teams: 2378 \n",
      "Number of tournaments: 689 \n",
      "Number of matches: 3496\n"
     ]
    }
   ],
   "source": [
    "print('Number of triples:', len(g), '\\nNumber of players:', len(player_uris), '\\nNumber of teams:', len(team_uris), '\\nNumber of tournaments:', len(tournament_uris), '\\nNumber of matches:', len(match_uris))"
   ],
   "metadata": {
    "collapsed": false,
    "ExecuteTime": {
     "end_time": "2024-03-27T12:54:02.945330600Z",
     "start_time": "2024-03-27T12:54:02.938291400Z"
    }
   },
   "id": "aa30ce5f10c4630a",
   "execution_count": 17
  },
  {
   "cell_type": "code",
   "outputs": [
    {
     "data": {
      "text/plain": "<Graph identifier=Nff96ca215ea249d09627420db7ce8ba2 (<class 'rdflib.graph.Graph'>)>"
     },
     "execution_count": 18,
     "metadata": {},
     "output_type": "execute_result"
    }
   ],
   "source": [
    "# merge the two graphs\n",
    "g.parse(data=prev_g.serialize(format=\"turtle\"), format=\"turtle\")"
   ],
   "metadata": {
    "collapsed": false,
    "ExecuteTime": {
     "end_time": "2024-03-27T12:54:02.961072200Z",
     "start_time": "2024-03-27T12:54:02.941077800Z"
    }
   },
   "id": "a953330d0804589d",
   "execution_count": 18
  },
  {
   "cell_type": "code",
   "outputs": [
    {
     "data": {
      "text/plain": "<Graph identifier=Nff96ca215ea249d09627420db7ce8ba2 (<class 'rdflib.graph.Graph'>)>"
     },
     "execution_count": 19,
     "metadata": {},
     "output_type": "execute_result"
    }
   ],
   "source": [
    "# Save the graph to a file\n",
    "g.serialize(\"football_data_small.ttl\", format=\"turtle\")"
   ],
   "metadata": {
    "collapsed": false,
    "ExecuteTime": {
     "end_time": "2024-03-27T12:54:10.232621900Z",
     "start_time": "2024-03-27T12:54:02.955716700Z"
    }
   },
   "id": "2a8ad9983383e6ed",
   "execution_count": 19
  },
  {
   "cell_type": "code",
   "outputs": [],
   "source": [],
   "metadata": {
    "collapsed": false
   },
   "id": "c806163d0297379e"
  }
 ],
 "metadata": {
  "kernelspec": {
   "display_name": "Python 3",
   "language": "python",
   "name": "python3"
  },
  "language_info": {
   "codemirror_mode": {
    "name": "ipython",
    "version": 2
   },
   "file_extension": ".py",
   "mimetype": "text/x-python",
   "name": "python",
   "nbconvert_exporter": "python",
   "pygments_lexer": "ipython2",
   "version": "2.7.6"
  }
 },
 "nbformat": 4,
 "nbformat_minor": 5
}
