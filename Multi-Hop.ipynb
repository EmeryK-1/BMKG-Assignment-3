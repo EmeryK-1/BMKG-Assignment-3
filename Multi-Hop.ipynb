{
 "cells": [
  {
   "cell_type": "code",
   "outputs": [
    {
     "name": "stdout",
     "output_type": "stream",
     "text": [
      "^C\n"
     ]
    }
   ],
   "source": [
    "!pip install langchain-openai fastembed langchain oxrdflib qdrant-client"
   ],
   "metadata": {
    "collapsed": false,
    "ExecuteTime": {
     "end_time": "2024-03-27T16:08:11.199632900Z",
     "start_time": "2024-03-27T16:08:09.081217100Z"
    }
   },
   "id": "41b9b7eb0c5bb117",
   "execution_count": 118
  },
  {
   "cell_type": "code",
   "execution_count": 2,
   "id": "initial_id",
   "metadata": {
    "collapsed": true,
    "ExecuteTime": {
     "end_time": "2024-03-27T17:22:55.452200400Z",
     "start_time": "2024-03-27T17:22:33.514757300Z"
    }
   },
   "outputs": [],
   "source": [
    "from rdflib import Graph\n",
    "from typing import Any, List, Optional\n",
    "import getpass\n",
    "import os\n",
    "\n",
    "from langchain.prompts.prompt import PromptTemplate\n",
    "from langchain.text_splitter import RecursiveCharacterTextSplitter\n",
    "from langchain.schema import format_document\n",
    "from langchain_openai import OpenAI\n",
    "from langchain_community.vectorstores import Qdrant\n",
    "from langchain_community.embeddings.fastembed import FastEmbedEmbeddings\n",
    "from langchain_community.document_loaders.base import BaseLoader\n",
    "from langchain_core.documents import Document\n",
    "from langchain_community.document_loaders.base import BaseLoader\n",
    "if \"OPENAI_API_KEY\" not in os.environ:\n",
    "    os.environ[\"OPENAI_API_KEY\"] = getpass.getpass(\"Provide your OpenAI API Key\")"
   ]
  },
  {
   "cell_type": "code",
   "outputs": [],
   "source": [
    "extract_classes_query = \"\"\"\n",
    "PREFIX schema: <http://schema.org/>\n",
    "\n",
    "SELECT ?uri ?predicate ?label ?type\n",
    "WHERE {\n",
    "    ?uri a ?type;\n",
    "        ?predicate ?label.\n",
    "    FILTER (\n",
    "        ?predicate = schema:name\n",
    "    )\n",
    "}\"\"\"\n",
    "\n",
    "class OntologyLoader(BaseLoader):\n",
    "    \"\"\"Load an OWL ontology and extract classes and properties as documents.\"\"\"\n",
    "\n",
    "    def __init__(self, ontology_url: str, format: Optional[str] = None):\n",
    "        self.ontology_url = ontology_url\n",
    "        self.format = format\n",
    "        self.graph = Graph(store=\"Oxigraph\")\n",
    "        self.graph.parse(source=self.ontology_url, format=self.format)\n",
    "\n",
    "    def load(self) -> List[Document]:\n",
    "        \"\"\"Load and return documents (classes and properties) from the OWL ontology.\"\"\"\n",
    "        docs: List[Document] = []\n",
    "        for cls in self.graph.query(extract_classes_query):\n",
    "            docs.append(self._create_document(cls))\n",
    "        return docs\n",
    "\n",
    "    def _create_document(self, result_row: Any) -> Document:\n",
    "        \"\"\"Create a Document object from a query result row.\"\"\"\n",
    "        label = str(result_row.label)\n",
    "        return Document(\n",
    "            page_content=label,\n",
    "            # NOTE: you can include more metadata retrieved by the SPARQL query here\n",
    "            metadata={\n",
    "                \"label\": label,\n",
    "                \"uri\": str(result_row.uri),\n",
    "                \"type\": str(result_row.type),\n",
    "                \"predicate\": str(result_row.predicate),\n",
    "                \"ontology\": self.ontology_url,\n",
    "            },\n",
    "        )"
   ],
   "metadata": {
    "collapsed": false,
    "ExecuteTime": {
     "end_time": "2024-03-27T17:22:55.453203700Z",
     "start_time": "2024-03-27T17:22:55.445824700Z"
    }
   },
   "id": "2f7848c4edeb02e",
   "execution_count": 3
  },
  {
   "cell_type": "code",
   "outputs": [
    {
     "data": {
      "text/plain": "Fetching 9 files:   0%|          | 0/9 [00:00<?, ?it/s]",
      "application/vnd.jupyter.widget-view+json": {
       "version_major": 2,
       "version_minor": 0,
       "model_id": "9737283b826b40258885777835b2e45f"
      }
     },
     "metadata": {},
     "output_type": "display_data"
    }
   ],
   "source": [
    "flag_embeddings = FastEmbedEmbeddings(model_name=\"BAAI/bge-small-en-v1.5\", max_length=512)\n",
    "loader = OntologyLoader(\"football_data.ttl\", format=\"ttl\")\n",
    "docs = loader.load()\n",
    "\n",
    "text_splitter = RecursiveCharacterTextSplitter(chunk_size=1000, chunk_overlap=200)\n",
    "splits = text_splitter.split_documents(docs)\n",
    "\n",
    "vectorstore = Qdrant.from_documents(\n",
    "    splits,\n",
    "    flag_embeddings,\n",
    "    collection_name=\"ontologies\",\n",
    "    location=\":memory:\",\n",
    ")\n",
    "\n",
    "retriever = vectorstore.as_retriever(search_kwargs={\"k\": 20})\n",
    "llm = OpenAI(temperature=0)"
   ],
   "metadata": {
    "collapsed": false,
    "ExecuteTime": {
     "end_time": "2024-03-27T17:23:52.674721300Z",
     "start_time": "2024-03-27T17:22:55.452200400Z"
    }
   },
   "id": "27313d478b125cdb",
   "execution_count": 4
  },
  {
   "cell_type": "code",
   "outputs": [],
   "source": [
    "def reformulate_question(question: str, llm) -> str:\n",
    "    \"\"\"\n",
    "    Reformulate the question to include necessary contextual information.\n",
    "    \"\"\"\n",
    "    reformulation_prompt = f\"\"\"\n",
    "    Reformulate the question such that it is clearer. Only reformulate the question if the original question is not specific enough to answer.\n",
    "    Question: {question}\n",
    "    Standalone question:\"\"\"\n",
    "    reformulated_question = llm.generate([reformulation_prompt], max_tokens=200)\n",
    "    return reformulated_question.generations[0][0].text\n",
    "\n",
    "def generate_answer(context: str, question: str, llm) -> str:\n",
    "    \"\"\"\n",
    "    Generate an answer using the retrieved documents as context.\n",
    "    \"\"\"\n",
    "    answer_prompt = f\"\"\"\n",
    "    Answer the question by only giving the requested information. If you cannot answer the question, say so. Do not use any information outside this context:\n",
    "    {context}\n",
    "\n",
    "    Question: {question}\n",
    "    \"\"\"\n",
    "    answer = llm.generate([answer_prompt], max_tokens=200)\n",
    "    return answer.generations[0][0].text\n",
    "\n",
    "# Format how the ontology concepts are passed as context to the LLM\n",
    "DEFAULT_DOCUMENT_PROMPT = PromptTemplate.from_template(\n",
    "    template=\"Concept label: {page_content} | URI: {uri} | Type: {type} | Predicate: {predicate} | Ontology: {ontology}\"\n",
    ")\n",
    "def combine_documents(docs, document_prompt=DEFAULT_DOCUMENT_PROMPT, document_separator=\"\\n\\n\"):\n",
    "    doc_strings = [format_document(doc, document_prompt) for doc in docs]\n",
    "    # print(\"Formatted docs:\", doc_strings)\n",
    "    return document_separator.join(doc_strings)\n",
    "\n",
    "def ask_question(question: str, retriever, llm) -> str:\n",
    "    \"\"\"\n",
    "    Ask a question to the RAG system and return the generated answer.\n",
    "    \"\"\"\n",
    "    reformulated_question = reformulate_question(question, llm)\n",
    "    print(\"Reformulated question:\", reformulated_question)\n",
    "    docs = retriever.get_relevant_documents(reformulated_question)\n",
    "    context = combine_documents(docs)\n",
    "    answer = generate_answer(context, reformulated_question, llm)\n",
    "    return answer\n"
   ],
   "metadata": {
    "collapsed": false,
    "ExecuteTime": {
     "end_time": "2024-03-27T17:28:58.395684400Z",
     "start_time": "2024-03-27T17:28:58.380464900Z"
    }
   },
   "id": "2b4204269bdb3bc",
   "execution_count": 12
  },
  {
   "cell_type": "markdown",
   "source": [
    "# Question Answering\n",
    "\n",
    "#### Which Brazilian players have played for a Premier League team and also won a trophy?"
   ],
   "metadata": {
    "collapsed": false
   },
   "id": "6c5566b64bc78c78"
  },
  {
   "cell_type": "code",
   "outputs": [
    {
     "name": "stdout",
     "output_type": "stream",
     "text": [
      "Reformulated question:  Can you provide a list of Brazilian players who have both played for a Premier League team and won a trophy?\n",
      "\n",
      "    Answer: I cannot answer this question as it requires information outside of the given context.\n"
     ]
    }
   ],
   "source": [
    "question = \"Which Brazilian players have played for a Premier League team and also won a trophy?\"\n",
    "answer = ask_question(question, retriever, llm)\n",
    "print(answer)"
   ],
   "metadata": {
    "collapsed": false,
    "ExecuteTime": {
     "end_time": "2024-03-27T17:29:00.406420100Z",
     "start_time": "2024-03-27T17:28:59.135682400Z"
    }
   },
   "id": "8f5580d537c5ebc1",
   "execution_count": 13
  },
  {
   "cell_type": "markdown",
   "source": [
    "#### How many goals were scored by each argentinian player, individually?"
   ],
   "metadata": {
    "collapsed": false
   },
   "id": "686a5ddf859f98bf"
  },
  {
   "cell_type": "code",
   "outputs": [
    {
     "name": "stdout",
     "output_type": "stream",
     "text": [
      "Reformulated question:  Can you provide a breakdown of the number of goals scored by each individual Argentinian player?\n",
      "\n",
      "No, this information is not provided in the given context.\n"
     ]
    }
   ],
   "source": [
    "question = \"How many goals were scored by each argentinian player, individually?\"\n",
    "answer = ask_question(question, retriever, llm)\n",
    "print(answer)"
   ],
   "metadata": {
    "collapsed": false,
    "ExecuteTime": {
     "end_time": "2024-03-27T17:29:03.033142200Z",
     "start_time": "2024-03-27T17:29:01.925951Z"
    }
   },
   "id": "65e17ff6c47422a5",
   "execution_count": 14
  },
  {
   "cell_type": "code",
   "outputs": [
    {
     "name": "stdout",
     "output_type": "stream",
     "text": [
      "Sergio Agüero 1\n",
      "Javier Zanetti 1\n",
      "Esteban Cambiasso 1\n",
      "Mario Kempes 3\n",
      "Pablo Aimar 1\n",
      "Roberto Ayala 1\n",
      "David Trezeguet 11\n",
      "Maxi Rodriguez 2\n",
      "Mauro Camoranesi 2\n",
      "Omar Sívori 1\n"
     ]
    }
   ],
   "source": [
    "r = loader.graph.query('''\n",
    "PREFIX wd: <http://www.wikidata.org/entity/>\n",
    "PREFIX schema: <http://schema.org/>\n",
    "PREFIX ex: <http://example.org/>\n",
    "\n",
    "SELECT ?playerName (SUM(?goals) AS ?totalGoals)\n",
    "WHERE {\n",
    "  ?player a schema:Person ;\n",
    "          schema:name ?playerName ;\n",
    "          schema:nationality wd:Q414.\n",
    "  \n",
    "  ?goal ex:player ?player ;\n",
    "        ex:goals ?goals .\n",
    "}\n",
    "GROUP BY ?playerName\n",
    "''')\n",
    "for row in r:\n",
    "    print(row[0], row[1])"
   ],
   "metadata": {
    "collapsed": false,
    "ExecuteTime": {
     "end_time": "2024-03-27T17:29:03.696790800Z",
     "start_time": "2024-03-27T17:29:03.645909200Z"
    }
   },
   "id": "1e5ea703c1fdc843",
   "execution_count": 15
  },
  {
   "cell_type": "markdown",
   "source": [
    "#### Identify Argentine players who have won the FIFA World Cup, played for FC Barcelona, and have been awarded the Ballon d'Or.\n"
   ],
   "metadata": {
    "collapsed": false
   },
   "id": "9b4a8d102b15fda3"
  },
  {
   "cell_type": "code",
   "outputs": [
    {
     "name": "stdout",
     "output_type": "stream",
     "text": [
      "Reformulated question:  Which Argentine players have achieved the trifecta of winning the FIFA World Cup, playing for FC Barcelona, and being awarded the Ballon d'Or?\n",
      "\n",
      "    Answer: Lionel Messi\n"
     ]
    }
   ],
   "source": [
    "question = \"Identify Argentine players who have won the FIFA World Cup, played for FC Barcelona, and have been awarded the Ballon d'Or.\"\n",
    "answer = ask_question(question, retriever, llm)\n",
    "print(answer)"
   ],
   "metadata": {
    "collapsed": false,
    "ExecuteTime": {
     "end_time": "2024-03-27T17:29:05.708369400Z",
     "start_time": "2024-03-27T17:29:04.595146Z"
    }
   },
   "id": "6a1f188abe957555",
   "execution_count": 16
  },
  {
   "cell_type": "markdown",
   "source": [
    "#### List English goalkeepers who have represented their national team in the UEFA European Championship and have also played for clubs in the Serie A."
   ],
   "metadata": {
    "collapsed": false
   },
   "id": "ea8b51ac871b12b9"
  },
  {
   "cell_type": "code",
   "outputs": [
    {
     "name": "stdout",
     "output_type": "stream",
     "text": [
      "Reformulated question:  Which English goalkeepers have played for both their national team in the UEFA European Championship and clubs in the Serie A?\n",
      "\n",
      "    Answer: Joe Hart, David James, and Paul Robinson.\n"
     ]
    }
   ],
   "source": [
    "question = \"List English goalkeepers who have represented their national team in the UEFA European Championship and have also played for clubs in the Serie A.\"\n",
    "answer = ask_question(question, retriever, llm)\n",
    "print(answer)"
   ],
   "metadata": {
    "collapsed": false,
    "ExecuteTime": {
     "end_time": "2024-03-27T17:29:07.437525Z",
     "start_time": "2024-03-27T17:29:06.419439800Z"
    }
   },
   "id": "927a0f0d57dea9c0",
   "execution_count": 17
  },
  {
   "cell_type": "markdown",
   "source": [
    "#### Find French midfielders who have won the UEFA European Championship, played alongside Lionel Messi at club level, and have won the UEFA Champions League."
   ],
   "metadata": {
    "collapsed": false
   },
   "id": "1f0e4fa0d3cd783e"
  },
  {
   "cell_type": "code",
   "outputs": [
    {
     "name": "stdout",
     "output_type": "stream",
     "text": [
      "Reformulated question:  Which French midfielders have won both the UEFA European Championship and the UEFA Champions League, and have also played alongside Lionel Messi at the club level?\n",
      "\n",
      "Answer: Thierry Henry\n"
     ]
    }
   ],
   "source": [
    "question = \"Find French midfielders who have won the UEFA European Championship, played alongside Lionel Messi at club level, and have won the UEFA Champions League.\"\n",
    "answer = ask_question(question, retriever, llm)\n",
    "print(answer)"
   ],
   "metadata": {
    "collapsed": false,
    "ExecuteTime": {
     "end_time": "2024-03-27T17:29:09.351270400Z",
     "start_time": "2024-03-27T17:29:08.175957Z"
    }
   },
   "id": "50ebdbcb140a8d3f",
   "execution_count": 18
  },
  {
   "cell_type": "code",
   "outputs": [],
   "source": [],
   "metadata": {
    "collapsed": false
   },
   "id": "2f9632a38e094340"
  }
 ],
 "metadata": {
  "kernelspec": {
   "display_name": "Python 3",
   "language": "python",
   "name": "python3"
  },
  "language_info": {
   "codemirror_mode": {
    "name": "ipython",
    "version": 2
   },
   "file_extension": ".py",
   "mimetype": "text/x-python",
   "name": "python",
   "nbconvert_exporter": "python",
   "pygments_lexer": "ipython2",
   "version": "2.7.6"
  }
 },
 "nbformat": 4,
 "nbformat_minor": 5
}
